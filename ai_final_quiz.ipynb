{
 "cells": [
  {
   "cell_type": "markdown",
   "metadata": {},
   "source": [
    "Before you turn this problem in, make sure everything runs as expected. First, **Restart and Run All** (in the menubar in colab, select Runtime$\\rightarrow$Restart and Run all) \n",
    "\n",
    "Make sure you only fill in any place that says `YOUR CODE HERE` and do not make any other changes to the code. If you add any code cells for your own testing. Please delete them before submission."
   ]
  },
  {
   "cell_type": "markdown",
   "metadata": {},
   "source": [
    "---"
   ]
  },
  {
   "cell_type": "markdown",
   "metadata": {
    "colab_type": "text",
    "id": "8d0Pc5wTwJJi"
   },
   "source": [
    "## 1\n",
    "Write a function that takes a dictionary ```d``` and value ```n``` and returns a list of ```n``` random terms. <br>\n",
    "Key-value pairs in dictionary ```d``` will be term-probability pairs defining a discrete random variable. Sum of all values in ```d``` will be 1. The function you write should generate ```n``` terms randomly (with replacement) according to the probability distribution given in the dictionary. <br>\n",
    "For eg., if term ```hello``` has probability ```0.1```, if we generate 1000 terms using the function, the expected number of times ```hello``` occurs should be ```100```"
   ]
  },
  {
   "cell_type": "code",
   "execution_count": 1,
   "metadata": {
    "colab": {},
    "colab_type": "code",
    "deletable": false,
    "id": "k5My6XOgwFMz",
    "nbgrader": {
     "cell_type": "code",
     "checksum": "059852eddb77da41ea5ce02aaa35f5e1",
     "grade": false,
     "grade_id": "cell-f04c2690de9e5197",
     "locked": false,
     "schema_version": 3,
     "solution": true,
     "task": false
    }
   },
   "outputs": [],
   "source": [
    "import random\n",
    "def random_generator(d, n):\n",
    "    \"\"\"\n",
    "  Inputs:\n",
    "    d : dictionary of term-probability pairs\n",
    "    n : int, number of random terms to generate\n",
    "  Outputs:\n",
    "    rand_list : list of length n, contains random terms generated according to probability distribution given in dictionary d\n",
    "  \"\"\"\n",
    "  \n",
    "  # YOUR CODE HERE\n",
    "    rand_list=[]\n",
    "    for i in range(n):\n",
    "        rand_list.append(random.choice(list((d.keys()))))\n",
    "    return rand_list"
   ]
  },
  {
   "cell_type": "code",
   "execution_count": 2,
   "metadata": {
    "colab": {},
    "colab_type": "code",
    "deletable": false,
    "editable": false,
    "id": "AioxXYhb1V0E",
    "nbgrader": {
     "cell_type": "code",
     "checksum": "facf5533fec6bff84b3fdb24b467f521",
     "grade": true,
     "grade_id": "cell-650351e8916fecef",
     "locked": true,
     "points": 0,
     "schema_version": 3,
     "solution": false,
     "task": false
    }
   },
   "outputs": [],
   "source": [
    "from collections import Counter\n",
    "import numpy as np\n",
    "d = {'hello': 0.5, 'world': 0.5}\n",
    "rand_lists = []\n",
    "for _ in range(100):\n",
    "  rand_lists += random_generator(d, 10)\n",
    "c = Counter(rand_lists)\n",
    "assert np.isclose(c['hello'], 500, atol = 100) ## Number of hellos should ideally be close to 500, but we are checking that it should be between 400 and 600\n",
    "assert np.isclose(c['world'], 500, atol = 100)\n"
   ]
  },
  {
   "cell_type": "markdown",
   "metadata": {
    "colab_type": "text",
    "id": "ZEOLbyMx5AQa"
   },
   "source": [
    "## 2\n",
    "Given a numpy array that may contain some nan values, return sum of elements of the array after replacing all ```nan``` values with value ```1```."
   ]
  },
  {
   "cell_type": "code",
   "execution_count": 3,
   "metadata": {
    "colab": {},
    "colab_type": "code",
    "deletable": false,
    "id": "3anPO6B913Uc",
    "nbgrader": {
     "cell_type": "code",
     "checksum": "b157d9a46dfa93e080b710bef0fa02bf",
     "grade": false,
     "grade_id": "cell-7d1764292e628bc4",
     "locked": false,
     "schema_version": 3,
     "solution": true,
     "task": false
    }
   },
   "outputs": [],
   "source": [
    "import math\n",
    "import numpy as np\n",
    "def nan_sum(a):\n",
    "    \"\"\"\n",
    "  Inputs:\n",
    "  a : numpy array of arbitrary shape\n",
    "\n",
    "  Outputs:\n",
    "  sum_ : float, sum of elements of a after replacing nans with 1's\n",
    "  \"\"\"\n",
    "  \n",
    "  # YOUR CODE HERE\n",
    "    sum_=0.0\n",
    "    a=a.ravel()\n",
    "    for i in range(len(a)):\n",
    "        if math.isnan(a[i]):\n",
    "            a[i]=1\n",
    "        sum_+=a[i]\n",
    "    return sum_"
   ]
  },
  {
   "cell_type": "code",
   "execution_count": 4,
   "metadata": {
    "colab": {},
    "colab_type": "code",
    "deletable": false,
    "editable": false,
    "id": "GTu_BusN4aWL",
    "nbgrader": {
     "cell_type": "code",
     "checksum": "0cf073fac4b95862af2350abe40b4ea7",
     "grade": true,
     "grade_id": "cell-6eb7b59b7bbffcf5",
     "locked": true,
     "points": 0,
     "schema_version": 3,
     "solution": false,
     "task": false
    }
   },
   "outputs": [],
   "source": [
    "a = np.ones((3, 3))*2\n",
    "a[0, 0] = np.nan\n",
    "a[0, 2] = np.nan\n",
    "assert np.isclose(nan_sum(a), 16) \n"
   ]
  },
  {
   "cell_type": "markdown",
   "metadata": {
    "colab_type": "text",
    "id": "RqluP2imDCEo"
   },
   "source": [
    "## 3\n",
    "Write a function ```gradient_descent``` to perform gradient descent. <br>\n",
    "The function takes arguments - ```f```, ```df```, ```startx```, ```lr``` and ```steps```. <br>\n",
    "```f``` is the function we are trying to minimize. <br>\n",
    "```df``` is the derivative function of ```f``` <br>\n",
    "```startx``` is the point ```x``` at which we begin gradient descent <br>\n",
    "```lr``` is learning rate that we use <br>\n",
    "```steps``` is number of steps for which we will perform gradient descent\n"
   ]
  },
  {
   "cell_type": "code",
   "execution_count": 5,
   "metadata": {
    "colab": {},
    "colab_type": "code",
    "deletable": false,
    "id": "M6EltDWMAsix",
    "nbgrader": {
     "cell_type": "code",
     "checksum": "6b3636f69ef569d74c2fe83756c54307",
     "grade": false,
     "grade_id": "cell-75ff3a85e90b3df3",
     "locked": false,
     "schema_version": 3,
     "solution": true,
     "task": false
    }
   },
   "outputs": [],
   "source": [
    "def gradient_descent(f, df, startx, lr, steps):\n",
    "    \"\"\"\n",
    "  Inputs:\n",
    "    f : function, single argument function which takes a float and returns a float, function to be minimized \n",
    "    df : function single argument function which takes a float and returns a float, derivative of f\n",
    "    startx : float, \n",
    "    lr : float,\n",
    "    steps: int\n",
    "  Outputs:\n",
    "    flist : list of length steps+1, values of f at each step of gradient descent \n",
    "  \"\"\"\n",
    "  \n",
    "  # YOUR CODE HERE\n",
    "    x_new=startx\n",
    "    flist=[]\n",
    "    for i in range(steps):\n",
    "        x_old=x_new\n",
    "        func=f(x_old)\n",
    "        d_func=df(x_old)\n",
    "        x_new=x_old-(lr*d_func)\n",
    "        flist.append(x_new)\n",
    "    return flist"
   ]
  },
  {
   "cell_type": "code",
   "execution_count": 6,
   "metadata": {
    "colab": {},
    "colab_type": "code",
    "deletable": false,
    "editable": false,
    "id": "Bpyk1w2jBdZ3",
    "nbgrader": {
     "cell_type": "code",
     "checksum": "fb16a67bd5bc4bafd422e13dc00b3a0f",
     "grade": true,
     "grade_id": "cell-0de435e711b9b89d",
     "locked": true,
     "points": 0,
     "schema_version": 3,
     "solution": false,
     "task": false
    }
   },
   "outputs": [],
   "source": [
    "f = lambda x: x**2 - 2*x + 3\n",
    "df = lambda x: 2*x - 2\n",
    "startx = 10\n",
    "lr = 0.2\n",
    "steps = 100\n",
    "flist = gradient_descent(f, df, startx, lr, steps)\n",
    "assert flist[50] <= flist[0]\n"
   ]
  },
  {
   "cell_type": "markdown",
   "metadata": {
    "colab_type": "text",
    "id": "EvCdz8njNOsW"
   },
   "source": [
    "## 4\n",
    "### Unrolling an RNN\n",
    "We define a recurrent neuron as follows - \n",
    "$$\n",
    "  y_{t+1} = \\begin{cases}\n",
    "  2*y_t + (y_{t-1}\\bmod 3) \\text{  if y_t is even} \\\\\n",
    "  3*y_t + 1 \\text{ if y_t is odd} \n",
    "  \\end{cases}\n",
    "$$\n",
    "\n",
    "Write the function custom_rnn which takes as inputs ```y0``` and ```steps``` and unrolls the RNN defined above for ```steps``` number of steps. (Assume $y_{t-1}$ is 0 for all values of t less than 0)"
   ]
  },
  {
   "cell_type": "code",
   "execution_count": 7,
   "metadata": {
    "colab": {},
    "colab_type": "code",
    "deletable": false,
    "id": "qFTvMcGuMXH6",
    "nbgrader": {
     "cell_type": "code",
     "checksum": "626b8f1349a581d807a738f20b8027a8",
     "grade": false,
     "grade_id": "cell-ae63f5449d761d1c",
     "locked": false,
     "schema_version": 3,
     "solution": true,
     "task": false
    }
   },
   "outputs": [],
   "source": [
    "def custom_rnn(y0, steps):\n",
    "    \"\"\"\n",
    "  Inputs:\n",
    "    y0 : float\n",
    "    steps: int, number of steps\n",
    "  Outputs:\n",
    "    ys : numpy array, array of length steps with values of y\n",
    "  \"\"\"\n",
    "  \n",
    "  # YOUR CODE HERE\n",
    "    ys=[y0]\n",
    "    yp=y0\n",
    "    for i in range(1,steps):\n",
    "        if(i==1):\n",
    "            yp1=0\n",
    "        if(typo(yp)):\n",
    "            ys.append(2*yp+abs(yp1%3))\n",
    "            yp=ys[i]\n",
    "        else:\n",
    "            ys.append(3*yp+1)\n",
    "            yp=ys[i]\n",
    "        if(i>1):\n",
    "            yp1=ys[i-1]\n",
    "    ys=np.array(ys)\n",
    "    return ys\n",
    "\n",
    "def typo(x):\n",
    "    if(x%2==0):\n",
    "        return 1\n",
    "    else:\n",
    "        return 0"
   ]
  },
  {
   "cell_type": "code",
   "execution_count": 8,
   "metadata": {
    "colab": {},
    "colab_type": "code",
    "deletable": false,
    "editable": false,
    "id": "cq84oseLTM2U",
    "nbgrader": {
     "cell_type": "code",
     "checksum": "b28772b7c4330b81b5ec176c0802bc30",
     "grade": true,
     "grade_id": "cell-4df2a479e9dbeebe",
     "locked": true,
     "points": 0,
     "schema_version": 3,
     "solution": false,
     "task": false
    }
   },
   "outputs": [],
   "source": [
    "ys = custom_rnn(3, 5)\n",
    "assert np.all(np.isclose(ys, np.array([  3.,  10.,  20.,  41., 124.])))\n"
   ]
  },
  {
   "cell_type": "code",
   "execution_count": null,
   "metadata": {
    "colab": {},
    "colab_type": "code",
    "id": "J2wJXeTxTmEo"
   },
   "outputs": [],
   "source": []
  }
 ],
 "metadata": {
  "colab": {
   "name": "ai_final_quiz.ipynb",
   "provenance": []
  },
  "kernelspec": {
   "display_name": "Python 3",
   "language": "python",
   "name": "python3"
  },
  "language_info": {
   "codemirror_mode": {
    "name": "ipython",
    "version": 3
   },
   "file_extension": ".py",
   "mimetype": "text/x-python",
   "name": "python",
   "nbconvert_exporter": "python",
   "pygments_lexer": "ipython3",
   "version": "3.7.4"
  }
 },
 "nbformat": 4,
 "nbformat_minor": 1
}
